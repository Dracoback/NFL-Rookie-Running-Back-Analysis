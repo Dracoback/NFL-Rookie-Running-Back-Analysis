{
 "cells": [
  {
   "cell_type": "markdown",
   "metadata": {},
   "source": [
    "Our goal is to now create a model that will take a new batch of college football running backs and determine which players should be scouted as potential draft choices. While we will change scoring metrics on occasion, we will consistently refer back to the precision and recall for True (True being the designation given to a player that should be scouted). If a team did not have a lot of scouting rescources, they would prefer models with a high amount of precision since this would tell them that most of the players they observe will be worthwhile in pursuing. If a team does have a lot of scouting resources, they would prefer models with a high amount of recall since this would tell them that they would not likely overlook a potential star player. "
   ]
  },
  {
   "cell_type": "code",
   "execution_count": 1,
   "metadata": {
    "collapsed": true
   },
   "outputs": [],
   "source": [
    "import pandas as pd\n",
    "%matplotlib inline\n",
    "import matplotlib.pyplot as plt\n",
    "import seaborn as sns\n",
    "import numpy as np\n",
    "from sklearn.neighbors import KNeighborsClassifier\n",
    "from sklearn.model_selection import train_test_split\n",
    "from sklearn.ensemble import RandomForestClassifier\n",
    "from sklearn.metrics import roc_auc_score #or accuracy_score\n",
    "from sklearn.preprocessing import scale\n",
    "\n",
    "clg = pd.read_csv('college_avgs_clean.csv')"
   ]
  },
  {
   "cell_type": "code",
   "execution_count": 2,
   "metadata": {},
   "outputs": [
    {
     "data": {
      "text/html": [
       "<div>\n",
       "<style>\n",
       "    .dataframe thead tr:only-child th {\n",
       "        text-align: right;\n",
       "    }\n",
       "\n",
       "    .dataframe thead th {\n",
       "        text-align: left;\n",
       "    }\n",
       "\n",
       "    .dataframe tbody tr th {\n",
       "        vertical-align: top;\n",
       "    }\n",
       "</style>\n",
       "<table border=\"1\" class=\"dataframe\">\n",
       "  <thead>\n",
       "    <tr style=\"text-align: right;\">\n",
       "      <th></th>\n",
       "      <th>Att</th>\n",
       "      <th>Gain</th>\n",
       "      <th>Loss</th>\n",
       "      <th>Yds</th>\n",
       "      <th>Avg</th>\n",
       "      <th>TD</th>\n",
       "      <th>Player</th>\n",
       "      <th>Made NFL</th>\n",
       "    </tr>\n",
       "  </thead>\n",
       "  <tbody>\n",
       "    <tr>\n",
       "      <th>0</th>\n",
       "      <td>160.0</td>\n",
       "      <td>804.0</td>\n",
       "      <td>19.0</td>\n",
       "      <td>785.0</td>\n",
       "      <td>4.910</td>\n",
       "      <td>7.0</td>\n",
       "      <td>A.J. Ouellette</td>\n",
       "      <td>False</td>\n",
       "    </tr>\n",
       "    <tr>\n",
       "      <th>1</th>\n",
       "      <td>187.0</td>\n",
       "      <td>1131.5</td>\n",
       "      <td>34.0</td>\n",
       "      <td>1097.5</td>\n",
       "      <td>6.175</td>\n",
       "      <td>10.0</td>\n",
       "      <td>Aaron Green</td>\n",
       "      <td>False</td>\n",
       "    </tr>\n",
       "    <tr>\n",
       "      <th>2</th>\n",
       "      <td>246.5</td>\n",
       "      <td>1403.0</td>\n",
       "      <td>52.0</td>\n",
       "      <td>1351.0</td>\n",
       "      <td>5.505</td>\n",
       "      <td>15.5</td>\n",
       "      <td>Adam Muema</td>\n",
       "      <td>False</td>\n",
       "    </tr>\n",
       "    <tr>\n",
       "      <th>3</th>\n",
       "      <td>192.0</td>\n",
       "      <td>935.0</td>\n",
       "      <td>47.5</td>\n",
       "      <td>887.5</td>\n",
       "      <td>4.625</td>\n",
       "      <td>7.5</td>\n",
       "      <td>Adam Robinson</td>\n",
       "      <td>False</td>\n",
       "    </tr>\n",
       "    <tr>\n",
       "      <th>4</th>\n",
       "      <td>173.0</td>\n",
       "      <td>1123.5</td>\n",
       "      <td>39.0</td>\n",
       "      <td>1084.5</td>\n",
       "      <td>6.265</td>\n",
       "      <td>10.0</td>\n",
       "      <td>Adonis Thomas</td>\n",
       "      <td>False</td>\n",
       "    </tr>\n",
       "  </tbody>\n",
       "</table>\n",
       "</div>"
      ],
      "text/plain": [
       "     Att    Gain  Loss     Yds    Avg    TD          Player  Made NFL\n",
       "0  160.0   804.0  19.0   785.0  4.910   7.0  A.J. Ouellette     False\n",
       "1  187.0  1131.5  34.0  1097.5  6.175  10.0     Aaron Green     False\n",
       "2  246.5  1403.0  52.0  1351.0  5.505  15.5      Adam Muema     False\n",
       "3  192.0   935.0  47.5   887.5  4.625   7.5   Adam Robinson     False\n",
       "4  173.0  1123.5  39.0  1084.5  6.265  10.0   Adonis Thomas     False"
      ]
     },
     "execution_count": 2,
     "metadata": {},
     "output_type": "execute_result"
    }
   ],
   "source": [
    "clg.head()"
   ]
  },
  {
   "cell_type": "code",
   "execution_count": 3,
   "metadata": {},
   "outputs": [
    {
     "data": {
      "text/html": [
       "<div>\n",
       "<style>\n",
       "    .dataframe thead tr:only-child th {\n",
       "        text-align: right;\n",
       "    }\n",
       "\n",
       "    .dataframe thead th {\n",
       "        text-align: left;\n",
       "    }\n",
       "\n",
       "    .dataframe tbody tr th {\n",
       "        vertical-align: top;\n",
       "    }\n",
       "</style>\n",
       "<table border=\"1\" class=\"dataframe\">\n",
       "  <thead>\n",
       "    <tr style=\"text-align: right;\">\n",
       "      <th></th>\n",
       "      <th>Att</th>\n",
       "      <th>Gain</th>\n",
       "      <th>Loss</th>\n",
       "      <th>Yds</th>\n",
       "      <th>Avg</th>\n",
       "      <th>TD</th>\n",
       "      <th>Made NFL</th>\n",
       "    </tr>\n",
       "  </thead>\n",
       "  <tbody>\n",
       "    <tr>\n",
       "      <th>0</th>\n",
       "      <td>160.0</td>\n",
       "      <td>804.0</td>\n",
       "      <td>19.0</td>\n",
       "      <td>785.0</td>\n",
       "      <td>4.910</td>\n",
       "      <td>7.0</td>\n",
       "      <td>False</td>\n",
       "    </tr>\n",
       "    <tr>\n",
       "      <th>1</th>\n",
       "      <td>187.0</td>\n",
       "      <td>1131.5</td>\n",
       "      <td>34.0</td>\n",
       "      <td>1097.5</td>\n",
       "      <td>6.175</td>\n",
       "      <td>10.0</td>\n",
       "      <td>False</td>\n",
       "    </tr>\n",
       "    <tr>\n",
       "      <th>2</th>\n",
       "      <td>246.5</td>\n",
       "      <td>1403.0</td>\n",
       "      <td>52.0</td>\n",
       "      <td>1351.0</td>\n",
       "      <td>5.505</td>\n",
       "      <td>15.5</td>\n",
       "      <td>False</td>\n",
       "    </tr>\n",
       "    <tr>\n",
       "      <th>3</th>\n",
       "      <td>192.0</td>\n",
       "      <td>935.0</td>\n",
       "      <td>47.5</td>\n",
       "      <td>887.5</td>\n",
       "      <td>4.625</td>\n",
       "      <td>7.5</td>\n",
       "      <td>False</td>\n",
       "    </tr>\n",
       "    <tr>\n",
       "      <th>4</th>\n",
       "      <td>173.0</td>\n",
       "      <td>1123.5</td>\n",
       "      <td>39.0</td>\n",
       "      <td>1084.5</td>\n",
       "      <td>6.265</td>\n",
       "      <td>10.0</td>\n",
       "      <td>False</td>\n",
       "    </tr>\n",
       "  </tbody>\n",
       "</table>\n",
       "</div>"
      ],
      "text/plain": [
       "     Att    Gain  Loss     Yds    Avg    TD  Made NFL\n",
       "0  160.0   804.0  19.0   785.0  4.910   7.0     False\n",
       "1  187.0  1131.5  34.0  1097.5  6.175  10.0     False\n",
       "2  246.5  1403.0  52.0  1351.0  5.505  15.5     False\n",
       "3  192.0   935.0  47.5   887.5  4.625   7.5     False\n",
       "4  173.0  1123.5  39.0  1084.5  6.265  10.0     False"
      ]
     },
     "execution_count": 3,
     "metadata": {},
     "output_type": "execute_result"
    }
   ],
   "source": [
    "clg = clg.drop('Player', axis=1)\n",
    "clg.head()"
   ]
  },
  {
   "cell_type": "code",
   "execution_count": 4,
   "metadata": {
    "collapsed": true
   },
   "outputs": [],
   "source": [
    "y = clg['Made NFL'].values\n",
    "X = clg.drop('Made NFL', axis=1).values\n",
    "X_scaled = scale(X)\n",
    "\n",
    "X_train, X_test, y_train, y_test = train_test_split(X_scaled, y, test_size=0.25, random_state=24, stratify=y)"
   ]
  },
  {
   "cell_type": "code",
   "execution_count": 5,
   "metadata": {},
   "outputs": [
    {
     "data": {
      "text/plain": [
       "False    0.658824\n",
       "True     0.341176\n",
       "dtype: float64"
      ]
     },
     "execution_count": 5,
     "metadata": {},
     "output_type": "execute_result"
    }
   ],
   "source": [
    "pd.Series(y).value_counts(normalize=True)"
   ]
  },
  {
   "cell_type": "markdown",
   "metadata": {},
   "source": [
    "### Using Accuracy as the Scoring Metric"
   ]
  },
  {
   "cell_type": "code",
   "execution_count": 6,
   "metadata": {
    "collapsed": true
   },
   "outputs": [],
   "source": [
    "neighbors = np.arange(1, 11)\n",
    "test_accuracy = np.empty(len(neighbors))\n",
    "\n",
    "for i, k in enumerate(neighbors):\n",
    "    # Setup a k-NN Classifier with k neighbors: knn\n",
    "    knn = KNeighborsClassifier(n_neighbors=k)\n",
    "\n",
    "    # Fit the classifier to the training data\n",
    "    knn.fit(X_train,y_train)\n",
    "\n",
    "    #Compute accuracy on the testing set\n",
    "    test_accuracy[i] = knn.score(X_test, y_test)"
   ]
  },
  {
   "cell_type": "code",
   "execution_count": 7,
   "metadata": {},
   "outputs": [
    {
     "data": {
      "image/png": "[encoded data removed]",
      "text/plain": [
       "<matplotlib.figure.Figure at 0x2c5fe363f28>"
      ]
     },
     "metadata": {},
     "output_type": "display_data"
    }
   ],
   "source": [
    "# Generate plot\n",
    "plt.title('k-NN: Varying Number of Neighbors')\n",
    "plt.plot(neighbors, test_accuracy, label = 'Testing Accuracy')\n",
    "plt.legend()\n",
    "plt.xlabel('Number of Neighbors')\n",
    "plt.ylabel('Accuracy')\n",
    "plt.show()"
   ]
  },
  {
   "cell_type": "code",
   "execution_count": 8,
   "metadata": {},
   "outputs": [
    {
     "name": "stdout",
     "output_type": "stream",
     "text": [
      "Optimal k =  4 , Accuracy =  76.6355140187 %\n"
     ]
    }
   ],
   "source": [
    "print('Optimal k = ', test_accuracy.argmax()+1, ', Accuracy = ', test_accuracy.max()*100,'%')"
   ]
  },
  {
   "cell_type": "code",
   "execution_count": 9,
   "metadata": {},
   "outputs": [
    {
     "name": "stdout",
     "output_type": "stream",
     "text": [
      "Best Score:  0.764150943396\n",
      "Best Parameters:  {'class_weight': None, 'max_features': 1, 'min_samples_leaf': 9, 'n_estimators': 5}\n"
     ]
    }
   ],
   "source": [
    "from sklearn.model_selection import GridSearchCV\n",
    "forest = RandomForestClassifier(random_state=42)\n",
    "parameters = {'n_estimators':[1, 2, 3, 4, 5, 10],'min_samples_leaf':np.arange(1,21), 'class_weight':('balanced','balanced_subsample',None), 'max_features':np.arange(1,7)}\n",
    "\n",
    "cv = GridSearchCV(forest, param_grid = parameters, scoring='accuracy')\n",
    "cv.fit(X_train, y_train)\n",
    "print('Best Score: ', cv.best_score_)\n",
    "print('Best Parameters: ', cv.best_params_)"
   ]
  },
  {
   "cell_type": "markdown",
   "metadata": {},
   "source": [
    "Comparing our *knn*-classifier to our random forest classifier, we are seeing comparable results using the accuracy metric. Let us see what insights we can gleam from observing precision and recall."
   ]
  },
  {
   "cell_type": "code",
   "execution_count": 10,
   "metadata": {},
   "outputs": [
    {
     "name": "stdout",
     "output_type": "stream",
     "text": [
      "[[66  4]\n",
      " [21 16]]\n",
      "             precision    recall  f1-score   support\n",
      "\n",
      "      False       0.76      0.94      0.84        70\n",
      "       True       0.80      0.43      0.56        37\n",
      "\n",
      "avg / total       0.77      0.77      0.74       107\n",
      "\n"
     ]
    }
   ],
   "source": [
    "from sklearn.metrics import confusion_matrix\n",
    "from sklearn.metrics import classification_report\n",
    "from sklearn.metrics import precision_recall_curve\n",
    "\n",
    "knn = KNeighborsClassifier(n_neighbors = test_accuracy.argmax() + 1)\n",
    "knn.fit(X_train, y_train)\n",
    "y_pred = knn.predict(X_test)\n",
    "print(confusion_matrix(y_test, y_pred))\n",
    "print(classification_report(y_test, y_pred))"
   ]
  },
  {
   "cell_type": "markdown",
   "metadata": {},
   "source": [
    "The precision/recall reports paint an interesting picture here. We see that 80% of the players that the model tells us to look at will actually be worth looking at (from precision on True), which is good. However, only 43% of the players we should be finding are in our results, meaning that we miss a lot of potential stars (from recall on True). Let's see if our forest model is any better."
   ]
  },
  {
   "cell_type": "code",
   "execution_count": 11,
   "metadata": {},
   "outputs": [
    {
     "name": "stdout",
     "output_type": "stream",
     "text": [
      "[[60 10]\n",
      " [20 17]]\n",
      "             precision    recall  f1-score   support\n",
      "\n",
      "      False       0.75      0.86      0.80        70\n",
      "       True       0.63      0.46      0.53        37\n",
      "\n",
      "avg / total       0.71      0.72      0.71       107\n",
      "\n"
     ]
    }
   ],
   "source": [
    "y_pred = cv.predict(X_test)\n",
    "print(confusion_matrix(y_test, y_pred))\n",
    "print(classification_report(y_test, y_pred))"
   ]
  },
  {
   "cell_type": "markdown",
   "metadata": {},
   "source": [
    "While our forest model provides a slight increase on recall, it does so at a steep cost to precision. This is enough of a distinciton to say that we would prefer to use our knn classifier in this case. "
   ]
  },
  {
   "cell_type": "markdown",
   "metadata": {},
   "source": [
    "### Using ROC AUC as the Scoring Metric"
   ]
  },
  {
   "cell_type": "code",
   "execution_count": 12,
   "metadata": {
    "collapsed": true
   },
   "outputs": [],
   "source": [
    "neighbors = np.arange(1, 11)\n",
    "test_accuracy = np.empty(len(neighbors))\n",
    "\n",
    "for i, k in enumerate(neighbors):\n",
    "    # Setup a k-NN Classifier with k neighbors: knn\n",
    "    knn = KNeighborsClassifier(n_neighbors=k)\n",
    "\n",
    "    # Fit the classifier to the training data\n",
    "    knn.fit(X_train,y_train)\n",
    "    \n",
    "    #Compute different metric.\n",
    "    y_test_pred = knn.predict(X_test)\n",
    "    test_accuracy[i] = roc_auc_score(y_test, y_test_pred)"
   ]
  },
  {
   "cell_type": "code",
   "execution_count": 13,
   "metadata": {},
   "outputs": [
    {
     "data": {
      "image/png": "[encoded data removed]",
      "text/plain": [
       "<matplotlib.figure.Figure at 0x2c5f951a630>"
      ]
     },
     "metadata": {},
     "output_type": "display_data"
    }
   ],
   "source": [
    "# Generate plot\n",
    "plt.title('k-NN: Varying Number of Neighbors')\n",
    "plt.plot(neighbors, test_accuracy, label = 'ROC AUC Score')\n",
    "plt.legend()\n",
    "plt.xlabel('Number of Neighbors')\n",
    "plt.ylabel('ROC AUC Score')\n",
    "plt.show()"
   ]
  },
  {
   "cell_type": "code",
   "execution_count": 14,
   "metadata": {},
   "outputs": [
    {
     "name": "stdout",
     "output_type": "stream",
     "text": [
      "Optimal k =  5 , ROC AUC Score =  0.725868725869\n"
     ]
    }
   ],
   "source": [
    "print('Optimal k = ', test_accuracy.argmax()+1, ', ROC AUC Score = ', test_accuracy.max())"
   ]
  },
  {
   "cell_type": "code",
   "execution_count": 15,
   "metadata": {},
   "outputs": [
    {
     "name": "stdout",
     "output_type": "stream",
     "text": [
      "Best ROC AUC Score:  0.770238095238\n",
      "Best Parameters:  {'class_weight': 'balanced_subsample', 'max_features': 3, 'min_samples_leaf': 9, 'n_estimators': 3}\n"
     ]
    }
   ],
   "source": [
    "forest = RandomForestClassifier(random_state=42)\n",
    "parameters = {'n_estimators':[1, 2, 3, 4, 5, 10],'min_samples_leaf':np.arange(1,21), 'class_weight':('balanced','balanced_subsample',None), 'max_features':np.arange(1,7)}\n",
    "\n",
    "cv = GridSearchCV(forest, param_grid = parameters, scoring='roc_auc')\n",
    "cv.fit(X_train, y_train)\n",
    "print('Best ROC AUC Score: ', cv.best_score_)\n",
    "print('Best Parameters: ', cv.best_params_)"
   ]
  },
  {
   "cell_type": "code",
   "execution_count": 16,
   "metadata": {},
   "outputs": [
    {
     "name": "stdout",
     "output_type": "stream",
     "text": [
      "[[60 10]\n",
      " [15 22]]\n",
      "             precision    recall  f1-score   support\n",
      "\n",
      "      False       0.80      0.86      0.83        70\n",
      "       True       0.69      0.59      0.64        37\n",
      "\n",
      "avg / total       0.76      0.77      0.76       107\n",
      "\n"
     ]
    }
   ],
   "source": [
    "knn = KNeighborsClassifier(n_neighbors = test_accuracy.argmax() + 1)\n",
    "knn.fit(X_train, y_train)\n",
    "y_pred = knn.predict(X_test)\n",
    "print(confusion_matrix(y_test, y_pred))\n",
    "print(classification_report(y_test, y_pred))"
   ]
  },
  {
   "cell_type": "code",
   "execution_count": 17,
   "metadata": {},
   "outputs": [
    {
     "name": "stdout",
     "output_type": "stream",
     "text": [
      "[[50 20]\n",
      " [13 24]]\n",
      "             precision    recall  f1-score   support\n",
      "\n",
      "      False       0.79      0.71      0.75        70\n",
      "       True       0.55      0.65      0.59        37\n",
      "\n",
      "avg / total       0.71      0.69      0.70       107\n",
      "\n"
     ]
    }
   ],
   "source": [
    "y_pred = cv.predict(X_test)\n",
    "print(confusion_matrix(y_test, y_pred))\n",
    "print(classification_report(y_test, y_pred))"
   ]
  },
  {
   "cell_type": "markdown",
   "metadata": {},
   "source": [
    "While we ended up with higher recalls for True, we also ended up with lower precisions for True on both models. "
   ]
  },
  {
   "cell_type": "markdown",
   "metadata": {},
   "source": [
    "### Using F1 Score as the Scoring Metric"
   ]
  },
  {
   "cell_type": "code",
   "execution_count": 18,
   "metadata": {
    "collapsed": true
   },
   "outputs": [],
   "source": [
    "from sklearn.metrics import f1_score\n",
    "neighbors = np.arange(1, 11)\n",
    "test_accuracy = np.empty(len(neighbors))\n",
    "\n",
    "for i, k in enumerate(neighbors):\n",
    "    # Setup a k-NN Classifier with k neighbors: knn\n",
    "    knn = KNeighborsClassifier(n_neighbors=k)\n",
    "\n",
    "    # Fit the classifier to the training data\n",
    "    knn.fit(X_train,y_train)\n",
    "    \n",
    "    #Compute different metric.\n",
    "    y_test_pred = knn.predict(X_test)\n",
    "    test_accuracy[i] = f1_score(y_test, y_test_pred)"
   ]
  },
  {
   "cell_type": "code",
   "execution_count": 19,
   "metadata": {},
   "outputs": [
    {
     "data": {
      "image/png": "[encoded data removed]",
      "text/plain": [
       "<matplotlib.figure.Figure at 0x2c5fe383cf8>"
      ]
     },
     "metadata": {},
     "output_type": "display_data"
    }
   ],
   "source": [
    "# Generate plot\n",
    "plt.title('k-NN: Varying Number of Neighbors')\n",
    "plt.plot(neighbors, test_accuracy, label = 'F1 Score')\n",
    "plt.legend()\n",
    "plt.xlabel('Number of Neighbors')\n",
    "plt.ylabel('F1 Score')\n",
    "plt.show()"
   ]
  },
  {
   "cell_type": "code",
   "execution_count": 20,
   "metadata": {},
   "outputs": [
    {
     "name": "stdout",
     "output_type": "stream",
     "text": [
      "Optimal k =  5 , F1 Score =  0.63768115942\n"
     ]
    }
   ],
   "source": [
    "print('Optimal k = ', test_accuracy.argmax()+1, ', F1 Score = ', test_accuracy.max())"
   ]
  },
  {
   "cell_type": "code",
   "execution_count": 21,
   "metadata": {},
   "outputs": [
    {
     "name": "stdout",
     "output_type": "stream",
     "text": [
      "Best F1 Score:  0.638504204688\n",
      "Best Parameters:  {'class_weight': 'balanced', 'max_features': 3, 'min_samples_leaf': 8, 'n_estimators': 5}\n"
     ]
    }
   ],
   "source": [
    "forest = RandomForestClassifier(random_state=42)\n",
    "parameters = {'n_estimators':[1, 2, 3, 4, 5, 10],'min_samples_leaf':np.arange(1,21), 'class_weight':('balanced','balanced_subsample',None), 'max_features':np.arange(1,7)}\n",
    "\n",
    "cv = GridSearchCV(forest, param_grid = parameters, scoring='f1')\n",
    "cv.fit(X_train, y_train)\n",
    "print('Best F1 Score: ', cv.best_score_)\n",
    "print('Best Parameters: ', cv.best_params_)"
   ]
  },
  {
   "cell_type": "code",
   "execution_count": 22,
   "metadata": {},
   "outputs": [
    {
     "name": "stdout",
     "output_type": "stream",
     "text": [
      "[[60 10]\n",
      " [15 22]]\n",
      "             precision    recall  f1-score   support\n",
      "\n",
      "      False       0.80      0.86      0.83        70\n",
      "       True       0.69      0.59      0.64        37\n",
      "\n",
      "avg / total       0.76      0.77      0.76       107\n",
      "\n"
     ]
    }
   ],
   "source": [
    "knn = KNeighborsClassifier(n_neighbors = test_accuracy.argmax() + 1)\n",
    "knn.fit(X_train, y_train)\n",
    "y_pred = knn.predict(X_test)\n",
    "print(confusion_matrix(y_test, y_pred))\n",
    "print(classification_report(y_test, y_pred))"
   ]
  },
  {
   "cell_type": "code",
   "execution_count": 23,
   "metadata": {},
   "outputs": [
    {
     "name": "stdout",
     "output_type": "stream",
     "text": [
      "[[49 21]\n",
      " [11 26]]\n",
      "             precision    recall  f1-score   support\n",
      "\n",
      "      False       0.82      0.70      0.75        70\n",
      "       True       0.55      0.70      0.62        37\n",
      "\n",
      "avg / total       0.73      0.70      0.71       107\n",
      "\n"
     ]
    }
   ],
   "source": [
    "y_pred = cv.predict(X_test)\n",
    "print(confusion_matrix(y_test, y_pred))\n",
    "print(classification_report(y_test, y_pred))"
   ]
  },
  {
   "cell_type": "markdown",
   "metadata": {},
   "source": [
    "The random forest model seems to have given us the best recall score for true so far. "
   ]
  },
  {
   "cell_type": "markdown",
   "metadata": {},
   "source": [
    "### Using Precision on 'True' as the Scoring Metric"
   ]
  },
  {
   "cell_type": "code",
   "execution_count": 24,
   "metadata": {},
   "outputs": [
    {
     "data": {
      "image/png": "[encoded data removed]",
      "text/plain": [
       "<matplotlib.figure.Figure at 0x2c5fe363cf8>"
      ]
     },
     "metadata": {},
     "output_type": "display_data"
    },
    {
     "name": "stdout",
     "output_type": "stream",
     "text": [
      "Optimal k =  4 , Precision Score =  0.8\n",
      "Best Precision Score:  0.693209876543\n",
      "Best Parameters:  {'class_weight': None, 'max_features': 1, 'min_samples_leaf': 9, 'n_estimators': 5}\n",
      "Confusion Matrix and Classification Report for Best KNN Classifier\n",
      "[[66  4]\n",
      " [21 16]]\n",
      "             precision    recall  f1-score   support\n",
      "\n",
      "      False       0.76      0.94      0.84        70\n",
      "       True       0.80      0.43      0.56        37\n",
      "\n",
      "avg / total       0.77      0.77      0.74       107\n",
      "\n",
      "Confusion Matrix and Classification Report for Best Random Forest Classifier\n",
      "[[60 10]\n",
      " [20 17]]\n",
      "             precision    recall  f1-score   support\n",
      "\n",
      "      False       0.75      0.86      0.80        70\n",
      "       True       0.63      0.46      0.53        37\n",
      "\n",
      "avg / total       0.71      0.72      0.71       107\n",
      "\n"
     ]
    }
   ],
   "source": [
    "from sklearn.metrics import precision_score\n",
    "neighbors = np.arange(1, 11)\n",
    "test_accuracy = np.empty(len(neighbors))\n",
    "\n",
    "for i, k in enumerate(neighbors):\n",
    "    # Setup a k-NN Classifier with k neighbors: knn\n",
    "    knn = KNeighborsClassifier(n_neighbors=k)\n",
    "\n",
    "    # Fit the classifier to the training data\n",
    "    knn.fit(X_train,y_train)\n",
    "    \n",
    "    #Compute different metric.\n",
    "    y_test_pred = knn.predict(X_test)\n",
    "    test_accuracy[i] = precision_score(y_test, y_test_pred)\n",
    "\n",
    "# Generate plot\n",
    "plt.title('k-NN: Varying Number of Neighbors')\n",
    "plt.plot(neighbors, test_accuracy, label = 'Precision')\n",
    "plt.legend()\n",
    "plt.xlabel('Number of Neighbors')\n",
    "plt.ylabel('Precision')\n",
    "plt.show()\n",
    "\n",
    "print('Optimal k = ', test_accuracy.argmax()+1, ', Precision Score = ', test_accuracy.max())\n",
    "\n",
    "forest = RandomForestClassifier(random_state=42)\n",
    "parameters = {'n_estimators':[1, 2, 3, 4, 5, 10],'min_samples_leaf':np.arange(1,21), 'class_weight':('balanced','balanced_subsample',None), 'max_features':np.arange(1,7)}\n",
    "\n",
    "cv = GridSearchCV(forest, param_grid = parameters, scoring='precision')\n",
    "cv.fit(X_train, y_train)\n",
    "print('Best Precision Score: ', cv.best_score_)\n",
    "print('Best Parameters: ', cv.best_params_)\n",
    "\n",
    "knn = KNeighborsClassifier(n_neighbors = test_accuracy.argmax() + 1)\n",
    "knn.fit(X_train, y_train)\n",
    "y_pred = knn.predict(X_test)\n",
    "print('Confusion Matrix and Classification Report for Best KNN Classifier')\n",
    "print(confusion_matrix(y_test, y_pred))\n",
    "print(classification_report(y_test, y_pred))\n",
    "\n",
    "y_pred = cv.predict(X_test)\n",
    "print('Confusion Matrix and Classification Report for Best Random Forest Classifier')\n",
    "print(confusion_matrix(y_test, y_pred))\n",
    "print(classification_report(y_test, y_pred))"
   ]
  },
  {
   "cell_type": "markdown",
   "metadata": {},
   "source": [
    "If a organization was attempting to optimize for precision on 'True', I would recommend that they use the knn model that we just found."
   ]
  },
  {
   "cell_type": "markdown",
   "metadata": {},
   "source": [
    "### Using Recall on 'True' as the Scoring Metric"
   ]
  },
  {
   "cell_type": "code",
   "execution_count": 25,
   "metadata": {},
   "outputs": [
    {
     "data": {
      "image/png": "[encoded data removed]",
      "text/plain": [
       "<matplotlib.figure.Figure at 0x2c5fe73ee10>"
      ]
     },
     "metadata": {},
     "output_type": "display_data"
    },
    {
     "name": "stdout",
     "output_type": "stream",
     "text": [
      "Optimal k =  5 , Recall Score =  0.594594594595\n",
      "Best Recall Score:  0.740740740741\n",
      "Best Parameters:  {'class_weight': 'balanced', 'max_features': 4, 'min_samples_leaf': 19, 'n_estimators': 1}\n",
      "Confusion Matrix and Classification Report for Best KNN Classifier\n",
      "[[60 10]\n",
      " [15 22]]\n",
      "             precision    recall  f1-score   support\n",
      "\n",
      "      False       0.80      0.86      0.83        70\n",
      "       True       0.69      0.59      0.64        37\n",
      "\n",
      "avg / total       0.76      0.77      0.76       107\n",
      "\n",
      "Confusion Matrix and Classification Report for Best Random Forest Classifier\n",
      "[[56 14]\n",
      " [14 23]]\n",
      "             precision    recall  f1-score   support\n",
      "\n",
      "      False       0.80      0.80      0.80        70\n",
      "       True       0.62      0.62      0.62        37\n",
      "\n",
      "avg / total       0.74      0.74      0.74       107\n",
      "\n"
     ]
    }
   ],
   "source": [
    "from sklearn.metrics import recall_score\n",
    "neighbors = np.arange(1, 11)\n",
    "test_accuracy = np.empty(len(neighbors))\n",
    "\n",
    "for i, k in enumerate(neighbors):\n",
    "    # Setup a k-NN Classifier with k neighbors: knn\n",
    "    knn = KNeighborsClassifier(n_neighbors=k)\n",
    "\n",
    "    # Fit the classifier to the training data\n",
    "    knn.fit(X_train,y_train)\n",
    "    \n",
    "    #Compute different metric.\n",
    "    y_test_pred = knn.predict(X_test)\n",
    "    test_accuracy[i] = recall_score(y_test, y_test_pred)\n",
    "\n",
    "# Generate plot\n",
    "plt.title('k-NN: Varying Number of Neighbors')\n",
    "plt.plot(neighbors, test_accuracy, label = 'Recall')\n",
    "plt.legend()\n",
    "plt.xlabel('Number of Neighbors')\n",
    "plt.ylabel('Recall')\n",
    "plt.show()\n",
    "\n",
    "print('Optimal k = ', test_accuracy.argmax()+1, ', Recall Score = ', test_accuracy.max())\n",
    "\n",
    "forest = RandomForestClassifier(random_state=42)\n",
    "parameters = {'n_estimators':[1, 2, 3, 4, 5, 10],'min_samples_leaf':np.arange(1,21), 'class_weight':('balanced','balanced_subsample',None), 'max_features':np.arange(1,7)}\n",
    "\n",
    "cv = GridSearchCV(forest, param_grid = parameters, scoring='recall')\n",
    "cv.fit(X_train, y_train)\n",
    "print('Best Recall Score: ', cv.best_score_)\n",
    "print('Best Parameters: ', cv.best_params_)\n",
    "\n",
    "knn = KNeighborsClassifier(n_neighbors = test_accuracy.argmax() + 1)\n",
    "knn.fit(X_train, y_train)\n",
    "y_pred = knn.predict(X_test)\n",
    "print('Confusion Matrix and Classification Report for Best KNN Classifier')\n",
    "print(confusion_matrix(y_test, y_pred))\n",
    "print(classification_report(y_test, y_pred))\n",
    "\n",
    "y_pred = cv.predict(X_test)\n",
    "print('Confusion Matrix and Classification Report for Best Random Forest Classifier')\n",
    "print(confusion_matrix(y_test, y_pred))\n",
    "print(classification_report(y_test, y_pred))"
   ]
  },
  {
   "cell_type": "markdown",
   "metadata": {},
   "source": [
    "This model had the supposed best recall for 'True'. However, the random forest model that we discovered for optimizing the F1 score resulted in a higher recall for 'True'. "
   ]
  },
  {
   "cell_type": "code",
   "execution_count": null,
   "metadata": {
    "collapsed": true
   },
   "outputs": [],
   "source": []
  }
 ],
 "metadata": {
  "kernelspec": {
   "display_name": "Python 3",
   "language": "python",
   "name": "python3"
  },
  "language_info": {
   "codemirror_mode": {
    "name": "ipython",
    "version": 3
   },
   "file_extension": ".py",
   "mimetype": "text/x-python",
   "name": "python",
   "nbconvert_exporter": "python",
   "pygments_lexer": "ipython3",
   "version": "3.6.1"
  }
 },
 "nbformat": 4,
 "nbformat_minor": 2
}
